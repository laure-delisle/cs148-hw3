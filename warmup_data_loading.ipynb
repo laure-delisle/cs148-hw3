{
 "cells": [
  {
   "cell_type": "markdown",
   "metadata": {
    "toc": true
   },
   "source": [
    "<h1>Table of Contents<span class=\"tocSkip\"></span></h1>\n",
    "<div class=\"toc\"><ul class=\"toc-item\"><li><span><a href=\"#Dataset\" data-toc-modified-id=\"Dataset-1\"><span class=\"toc-item-num\">1&nbsp;&nbsp;</span>Dataset</a></span><ul class=\"toc-item\"><li><span><a href=\"#MNIST\" data-toc-modified-id=\"MNIST-1.1\"><span class=\"toc-item-num\">1.1&nbsp;&nbsp;</span>MNIST</a></span></li><li><span><a href=\"#Split-train/val:-85/15%\" data-toc-modified-id=\"Split-train/val:-85/15%-1.2\"><span class=\"toc-item-num\">1.2&nbsp;&nbsp;</span>Split train/val: 85/15%</a></span></li><li><span><a href=\"#Load\" data-toc-modified-id=\"Load-1.3\"><span class=\"toc-item-num\">1.3&nbsp;&nbsp;</span>Load</a></span></li></ul></li><li><span><a href=\"#Data-augmentations\" data-toc-modified-id=\"Data-augmentations-2\"><span class=\"toc-item-num\">2&nbsp;&nbsp;</span>Data augmentations</a></span><ul class=\"toc-item\"><li><span><a href=\"#Individual-augmentations\" data-toc-modified-id=\"Individual-augmentations-2.1\"><span class=\"toc-item-num\">2.1&nbsp;&nbsp;</span>Individual augmentations</a></span></li><li><span><a href=\"#Combining-all-augmentations\" data-toc-modified-id=\"Combining-all-augmentations-2.2\"><span class=\"toc-item-num\">2.2&nbsp;&nbsp;</span>Combining all augmentations</a></span></li></ul></li></ul></div>"
   ]
  },
  {
   "cell_type": "code",
   "execution_count": 1,
   "metadata": {},
   "outputs": [],
   "source": [
    "# our basic libraries\n",
    "import torch\n",
    "import torchvision\n",
    "import matplotlib.pyplot as plt\n",
    "\n",
    "# data loading and transforming\n",
    "from torch.utils.data import DataLoader\n",
    "from torch.utils.data import random_split\n",
    "from torchvision import transforms\n",
    "from torchvision import datasets"
   ]
  },
  {
   "cell_type": "markdown",
   "metadata": {},
   "source": [
    "# Dataset"
   ]
  },
  {
   "cell_type": "markdown",
   "metadata": {},
   "source": [
    "## MNIST"
   ]
  },
  {
   "cell_type": "code",
   "execution_count": 99,
   "metadata": {},
   "outputs": [],
   "source": [
    "basic_transform = transforms.Compose([transforms.ToTensor(),\n",
    "                               transforms.Normalize((0.1307,), (0.3081,))])"
   ]
  },
  {
   "cell_type": "code",
   "execution_count": 100,
   "metadata": {},
   "outputs": [],
   "source": [
    "trainval_set = datasets.MNIST('./data', train=True, download=True,  # Downloads into a directory ../data\n",
    "                               transform=basic_transform)\n",
    "test_set = datasets.MNIST('./data', train=False, download=False,  # No need to download again\n",
    "                              transform=basic_transform)"
   ]
  },
  {
   "cell_type": "markdown",
   "metadata": {},
   "source": [
    "There are 60,000 elements in the [train + validation] set. There are 10,000 elements in the test set."
   ]
  },
  {
   "cell_type": "code",
   "execution_count": 101,
   "metadata": {},
   "outputs": [
    {
     "name": "stdout",
     "output_type": "stream",
     "text": [
      "trainval: 60000 \n",
      "test: 10000\n"
     ]
    }
   ],
   "source": [
    "print(\"trainval:\", len(trainval_set), \"\\ntest:\", len(test_set))"
   ]
  },
  {
   "cell_type": "markdown",
   "metadata": {},
   "source": [
    "Each element is composed of a tensor (1 channel, containing the pixel values) and an integer (class label from 0 to 9)."
   ]
  },
  {
   "cell_type": "code",
   "execution_count": 102,
   "metadata": {
    "scrolled": true
   },
   "outputs": [
    {
     "name": "stdout",
     "output_type": "stream",
     "text": [
      "X: <class 'torch.Tensor'> \n",
      "y: <class 'int'>\n",
      "image dimensions: torch.Size([1, 28, 28])\n",
      "labels: {0, 1, 2, 3, 4, 5, 6, 7, 8, 9}\n"
     ]
    }
   ],
   "source": [
    "print(\"X:\", type(trainval_set[0][0]), \"\\ny:\", type(trainval_set[0][1]))\n",
    "print(\"image dimensions:\", trainval_set[0][0].shape)\n",
    "print(\"labels:\", set([trainval_set[i][1] for i in range(len(test_set))]))"
   ]
  },
  {
   "cell_type": "markdown",
   "metadata": {},
   "source": [
    "## Split train/val: 85/15%"
   ]
  },
  {
   "cell_type": "code",
   "execution_count": 103,
   "metadata": {},
   "outputs": [],
   "source": [
    "trainval_size = len(trainval_set)\n",
    "train_size, val_size = int(trainval_size*0.85), int(trainval_size*0.15)\n",
    "\n",
    "# split\n",
    "train_set, val_set = torch.utils.data.random_split(trainval_set, [train_size, val_size])"
   ]
  },
  {
   "cell_type": "markdown",
   "metadata": {},
   "source": [
    "## Load"
   ]
  },
  {
   "cell_type": "code",
   "execution_count": 104,
   "metadata": {},
   "outputs": [],
   "source": [
    "train_loader = DataLoader(train_set, batch_size=32, shuffle=True)\n",
    "val_loader = DataLoader(val_set, batch_size=32, shuffle=True)\n",
    "test_loader = DataLoader(test_set, batch_size=32, shuffle=True)"
   ]
  },
  {
   "cell_type": "markdown",
   "metadata": {},
   "source": [
    "# Data augmentations"
   ]
  },
  {
   "cell_type": "markdown",
   "metadata": {},
   "source": [
    "## Individual augmentations"
   ]
  },
  {
   "cell_type": "code",
   "execution_count": 119,
   "metadata": {},
   "outputs": [],
   "source": [
    "rot = transforms.RandomAffine(\n",
    "    degrees=20,\n",
    "    translate=None,\n",
    "    scale=None,\n",
    "    shear=None)\n",
    "\n",
    "trans = transforms.RandomAffine(\n",
    "    degrees=0,\n",
    "    translate=(0.10, 0.10),\n",
    "    scale=None,\n",
    "    shear=None)\n",
    "\n",
    "shear = transforms.RandomAffine(\n",
    "    degrees=0,\n",
    "    translate=None,\n",
    "    scale=None,\n",
    "    shear=[-20, 20, -20, 20],\n",
    "    fill=0)"
   ]
  },
  {
   "cell_type": "code",
   "execution_count": 114,
   "metadata": {},
   "outputs": [],
   "source": [
    "def augment(augmentation):\n",
    "    return transforms.Compose([transforms.Pad(10, fill=0),\n",
    "                               augmentation,\n",
    "                               transforms.CenterCrop(28)])\n",
    "\n",
    "# rotation (random from -20 to 20 degrees)\n",
    "rotation = transforms.Compose([augment(rot), basic_transform])\n",
    "trainval_set_rotated = datasets.MNIST('./data', train=True, download=True,\n",
    "                                        transform=rotation)\n",
    "\n",
    "# translation (random from -20 to 20 degrees)\n",
    "translation = transforms.Compose([augment(trans), basic_transform])\n",
    "trainval_set_translated = datasets.MNIST('./data', train=True, download=True,\n",
    "                                        transform=translation)\n",
    "\n",
    "# shear (random from -20 to 20 degrees)\n",
    "shearing = transforms.Compose([augment(shear), basic_transform])\n",
    "trainval_set_sheared = datasets.MNIST('./data', train=True, download=True,\n",
    "                                        transform=shearing)"
   ]
  },
  {
   "cell_type": "code",
   "execution_count": 117,
   "metadata": {
    "scrolled": false
   },
   "outputs": [
    {
     "data": {
      "text/plain": [
       "<matplotlib.image.AxesImage at 0x7fb355cb6370>"
      ]
     },
     "execution_count": 117,
     "metadata": {},
     "output_type": "execute_result"
    },
    {
     "data": {
      "image/png": "[encoded data removed]",
      "text/plain": [
       "<Figure size 432x288 with 1 Axes>"
      ]
     },
     "metadata": {
      "needs_background": "light"
     },
     "output_type": "display_data"
    }
   ],
   "source": [
    "img = trainval_set[0][0]\n",
    "plt.imshow(img[0], cmap=\"gray\")"
   ]
  },
  {
   "cell_type": "code",
   "execution_count": 115,
   "metadata": {
    "scrolled": true
   },
   "outputs": [
    {
     "data": {
      "image/png": "[encoded data removed]",
      "text/plain": [
       "<Figure size 432x288 with 24 Axes>"
      ]
     },
     "metadata": {},
     "output_type": "display_data"
    }
   ],
   "source": [
    "fig, axs = plt.subplots(4, 6)\n",
    "\n",
    "# original\n",
    "for i, ax in enumerate(axs[0]):\n",
    "    ax.imshow(trainval_set[i][0][0], cmap='gray')\n",
    "\n",
    "# rotations\n",
    "for i, ax in enumerate(axs[1]):\n",
    "    ax.imshow(trainval_set_rotated[i][0][0], cmap='gray')\n",
    "\n",
    "# translations\n",
    "for i, ax in enumerate(axs[2]):\n",
    "    ax.imshow(trainval_set_translated[i][0][0], cmap='gray')\n",
    "\n",
    "# shears\n",
    "for i, ax in enumerate(axs[3]):\n",
    "    ax.imshow(trainval_set_sheared[i][0][0], cmap='gray')\n",
    "\n",
    "for ax in [i for j in range(4) for i in axs[j]]:\n",
    "    ax.set_xticks([])\n",
    "    ax.set_yticks([])\n",
    "\n",
    "#plt.tight_layout()\n",
    "plt.show()"
   ]
  },
  {
   "cell_type": "markdown",
   "metadata": {},
   "source": [
    "## Combining all augmentations"
   ]
  },
  {
   "cell_type": "code",
   "execution_count": 130,
   "metadata": {},
   "outputs": [],
   "source": [
    "rot_trans_shear = transforms.RandomAffine(\n",
    "    degrees=20,\n",
    "    translate=(0.10, 0.10),\n",
    "    scale=None,\n",
    "    shear=[-20, 20, -20, 20],\n",
    "    fill=0)\n",
    "\n",
    "# shear (random from -20 to 20 degrees)\n",
    "augmentations = transforms.Compose([augment(rot_trans_shear), basic_transform])\n",
    "trainval_set_augmented = datasets.MNIST('./data', train=True, download=True,\n",
    "                                        transform=shearing)"
   ]
  },
  {
   "cell_type": "code",
   "execution_count": 131,
   "metadata": {
    "scrolled": true
   },
   "outputs": [
    {
     "data": {
      "text/plain": [
       "<matplotlib.image.AxesImage at 0x7fb35f7311c0>"
      ]
     },
     "execution_count": 131,
     "metadata": {},
     "output_type": "execute_result"
    },
    {
     "data": {
      "image/png": "[encoded data removed]",
      "text/plain": [
       "<Figure size 432x288 with 1 Axes>"
      ]
     },
     "metadata": {
      "needs_background": "light"
     },
     "output_type": "display_data"
    }
   ],
   "source": [
    "img = trainval_set_augmented[0][0]\n",
    "plt.imshow(img[0], cmap=\"gray\")"
   ]
  }
 ],
 "metadata": {
  "kernelspec": {
   "display_name": "Python 3",
   "language": "python",
   "name": "python3"
  },
  "language_info": {
   "codemirror_mode": {
    "name": "ipython",
    "version": 3
   },
   "file_extension": ".py",
   "mimetype": "text/x-python",
   "name": "python",
   "nbconvert_exporter": "python",
   "pygments_lexer": "ipython3",
   "version": "3.8.5"
  },
  "toc": {
   "base_numbering": 1,
   "nav_menu": {},
   "number_sections": true,
   "sideBar": true,
   "skip_h1_title": false,
   "title_cell": "Table of Contents",
   "title_sidebar": "Contents",
   "toc_cell": true,
   "toc_position": {},
   "toc_section_display": true,
   "toc_window_display": false
  }
 },
 "nbformat": 4,
 "nbformat_minor": 4
}
